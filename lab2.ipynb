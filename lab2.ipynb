{
 "cells": [
  {
   "cell_type": "code",
   "execution_count": 35,
   "metadata": {
    "collapsed": true
   },
   "outputs": [],
   "source": [
    "import numpy as np"
   ]
  },
  {
   "cell_type": "code",
   "execution_count": 36,
   "metadata": {
    "collapsed": true
   },
   "outputs": [],
   "source": [
    "class LFSR:\n",
    "    def __init__(self,n_reg, params, states):\n",
    "        self.n_reg  = n_reg\n",
    "        self.params = np.array(params, dtype=np.bool)\n",
    "        self.states = np.array(states, dtype=np.bool)\n",
    "    \n",
    "    def set_params(self, params):\n",
    "        self.params = params\n",
    "        \n",
    "    def set_current_state(self, state):\n",
    "        self.states = state\n",
    "    \n",
    "    def iterate(self):\n",
    "        current_output = self.states[0]\n",
    "        next_last_state = np.logical_xor.reduce(self.params*self.states)\n",
    "        self.states = np.roll(self.states, 1)\n",
    "        self.states[-1] = next_last_state\n",
    "        return current_output"
   ]
  },
  {
   "cell_type": "code",
   "execution_count": 37,
   "metadata": {
    "collapsed": true
   },
   "outputs": [],
   "source": [
    "class Geffe:\n",
    "    def __init__(self, lfsr1, lfsr2, lfsr3):\n",
    "        self.lfsr1 = lfsr1\n",
    "        self.lfsr2 = lfsr2\n",
    "        self.lfsr3 = lfsr3\n",
    "    \n",
    "    def one_iteration(self):\n",
    "        x = self.lfsr1.iterate()\n",
    "        y = self.lfsr2.iterate()\n",
    "        s = self.lfsr3.iterate()\n",
    "        return (s*x) ^ ((s^1)* y)\n",
    "    \n",
    "    def iterate(self, n):\n",
    "        outputs = []\n",
    "        for i in range(n):\n",
    "            outputs.append(self.one_iteration())\n",
    "        return np.array(outputs, dtype = np.bool)"
   ]
  },
  {
   "cell_type": "code",
   "execution_count": 38,
   "metadata": {},
   "outputs": [],
   "source": [
    "lfsr_params1 = np.array([1,1,1,1,1,1], dtype=np.bool)\n",
    "lfsr_params2 = np.array([1,1,1,1], dtype=np.bool)\n",
    "lfsr_params3 = np.array([1,1,1,1,1,1,1,1], dtype=np.bool)\n",
    "\n",
    "lfsr_states1 = np.array([1,1,1,1,1,1], dtype=np.bool)\n",
    "lfsr_states2 = np.array([1,1,1,1], dtype=np.bool)\n",
    "lfsr_states3 = np.array([1,1,1,1,1,1,1,1], dtype=np.bool)\n",
    "\n",
    "LFSR1 = LFSR(len(lsfr_params1), lsfr_params1, lsfr_states1)\n",
    "LFSR2 = LFSR(len(lsfr_params2), lsfr_params2, lsfr_states2)\n",
    "LFSR3 = LFSR(len(lsfr_params3), lsfr_params3, lsfr_states3)"
   ]
  },
  {
   "cell_type": "code",
   "execution_count": 39,
   "metadata": {
    "collapsed": true
   },
   "outputs": [],
   "source": [
    "g = Geffe(LFSR1, LFSR2, LFSR3)"
   ]
  },
  {
   "cell_type": "code",
   "execution_count": 40,
   "metadata": {},
   "outputs": [
    {
     "data": {
      "text/plain": [
       "array([ True,  True, False,  True,  True,  True,  True,  True,  True, False], dtype=bool)"
      ]
     },
     "execution_count": 40,
     "metadata": {},
     "output_type": "execute_result"
    }
   ],
   "source": [
    "g.iterate(10)"
   ]
  },
  {
   "cell_type": "code",
   "execution_count": null,
   "metadata": {
    "collapsed": true
   },
   "outputs": [],
   "source": []
  }
 ],
 "metadata": {
  "kernelspec": {
   "display_name": "Python [conda root]",
   "language": "python",
   "name": "conda-root-py"
  },
  "language_info": {
   "codemirror_mode": {
    "name": "ipython",
    "version": 3
   },
   "file_extension": ".py",
   "mimetype": "text/x-python",
   "name": "python",
   "nbconvert_exporter": "python",
   "pygments_lexer": "ipython3",
   "version": "3.5.3"
  }
 },
 "nbformat": 4,
 "nbformat_minor": 2
}
