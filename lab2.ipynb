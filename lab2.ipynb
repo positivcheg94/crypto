{
 "cells": [
  {
   "cell_type": "code",
   "execution_count": 1,
   "metadata": {
    "collapsed": true
   },
   "outputs": [],
   "source": [
    "from itertools import product\n",
    "import numpy as np\n",
    "from scipy.stats import norm"
   ]
  },
  {
   "cell_type": "code",
   "execution_count": 2,
   "metadata": {
    "collapsed": true
   },
   "outputs": [],
   "source": [
    "class LFSR:\n",
    "    def __init__(self,n_reg, params, states):\n",
    "        self.n_reg  = n_reg\n",
    "        self.params = np.array(params, dtype=np.bool)\n",
    "        self.states = np.array(states, dtype=np.bool)\n",
    "    \n",
    "    def set_params(self, params):\n",
    "        self.params = params\n",
    "        \n",
    "    def set_current_state(self, state):\n",
    "        self.states = state\n",
    "    \n",
    "    def one_iteration(self):\n",
    "        current_output = self.states[0]\n",
    "        #print(\"states before\", self.states)\n",
    "        next_last_state = np.logical_xor.reduce(self.params*self.states)\n",
    "        #print(\"next last state\", next_last_state)\n",
    "        self.states = np.roll(self.states, -1)\n",
    "        self.states[-1] = next_last_state\n",
    "        #print(\"states after\", self.states)\n",
    "        return current_output\n",
    "    \n",
    "    def iterate(self, n):\n",
    "        outputs = []\n",
    "        for i in range(n):\n",
    "            outputs.append(self.one_iteration())\n",
    "        return np.array(outputs, dtype = np.bool)\n",
    "\n",
    "class Geffe:\n",
    "    def __init__(self, lfsr1, lfsr2, lfsr3):\n",
    "        self.lfsr1 = lfsr1\n",
    "        self.lfsr2 = lfsr2\n",
    "        self.lfsr3 = lfsr3\n",
    "    \n",
    "    def one_iteration(self):\n",
    "        x = self.lfsr1.one_iteration()\n",
    "        y = self.lfsr2.one_iteration()\n",
    "        s = self.lfsr3.one_iteration()\n",
    "        return (s*x) ^ ((s^1)* y)\n",
    "    \n",
    "    def iterate(self, n):\n",
    "        outputs = []\n",
    "        for i in range(n):\n",
    "            outputs.append(self.one_iteration())\n",
    "        return np.array(outputs, dtype = np.bool)\n",
    "    \n",
    "def find_beta(n):\n",
    "    return 1.0 / 2.0**n\n",
    "\n",
    "def find_N_C(p1,p2,alpha,beta):\n",
    "    a = p1 - p2\n",
    "    b = np.sqrt(p1*(1-p1))*norm.ppf(1-alpha)+np.sqrt(p2*(1-p2))*norm.ppf(1-beta)\n",
    "    c = 0\n",
    "    d = np.sqrt(b**2-4*a*c)\n",
    "    N1 = np.power((-b + d)/(2*a), 2)\n",
    "    N2 = np.power((-b - d)/(2*a), 2)\n",
    "    N = np.maximum(N1,N2)\n",
    "    C = N*p1 + np.sqrt(N*p1*(1-p1))*norm.ppf(1-alpha)\n",
    "    return N,C\n",
    "\n",
    "def check_N_C(N,C, p1, p2, alpha, beta):\n",
    "    return C - N*p1  - np.sqrt(N*p1*(1-p1))*norm.ppf(1-alpha), C  - N*p2 + np.sqrt(N*p2*(1-p2))*norm.ppf(1-beta)\n",
    "\n",
    "def all_states_generator(N):\n",
    "    return product([False,True], repeat=N)\n",
    "\n",
    "def calculate_R(z,x):\n",
    "    return np.sum(np.logical_xor(z,x))\n",
    "\n",
    "def check_master_LFSR(z, generated, LFSR1, approved1, LFSR2, approved2):\n",
    "    N = len(generated)\n",
    "    \n",
    "    \n",
    "    for state1 in approved_states1:\n",
    "        LFSR1.set_current_state(state1)\n",
    "        generated1 = LFSR1.iterate(N)\n",
    "        ok1 = False\n",
    "        for state2 in approved_states2:\n",
    "            LFSR2.set_current_state(state2)\n",
    "            generated2 = LFSR2.iterate(N)\n",
    "            ok2 = True\n",
    "            for i in range(N):\n",
    "                z_i, gen, gen1, gen2 = z[i], generated[i], generated1[i], generated2[i]\n",
    "                if gen1 != gen2:\n",
    "                    if (gen == 1 and gen1 != z_i) or (gen2 != z_i):\n",
    "                        ok2 = False\n",
    "                        break\n",
    "            if ok2 == True:\n",
    "                ok1 = True;\n",
    "        "
   ]
  },
  {
   "cell_type": "code",
   "execution_count": 3,
   "metadata": {},
   "outputs": [],
   "source": [
    "n_lfsr1 = 11\n",
    "n_lfsr2 = 9\n",
    "n_lfsr3 = 10\n",
    "\n",
    "lfsr_p1 = np.array([1,0,1,0,0,0,0,0,0,0,0], dtype=np.bool) # X11 = X2 + X0\n",
    "lfsr_p2 = np.array([1,1,0,1,1,0,0,0,0], dtype=np.bool)     # X9 = X4 + X3 + X1 + X0 \n",
    "lfsr_p3 = np.array([1,0,0,1,0,0,0,0,0,0], dtype=np.bool)   # X10 = X3 + X0\n",
    "alpha   = 0.01\n",
    "p1      = 1.0/4\n",
    "p2      = 1.0/2\n",
    "\n",
    "#var 3\n",
    "z_str = \"\"\"01101000101000101110010001100100001000100000010001111100100011001001011011010001011011101010001100010100000010001011111001101010101111011000100011110100110110011011100001010101101010011110000011000100110111011010111101100101010011110001010011001100111110010000000110100011101110001110000010101101000100010100000100011100111011111110010100001000101011111101011001001001010110111111110000010111100111100100110110110001011011111101101010001010100011001100110010011100010010000110110110101101110100010010\"\"\"\n",
    "z = np.array([int(v) for v in z_str],dtype=np.bool)\n",
    "N = len(z)\n",
    "\n",
    "LFSR1 = LFSR(len(lfsr_p1), lfsr_p1, [])\n",
    "LFSR2 = LFSR(len(lfsr_p2), lfsr_p2, [])\n",
    "LFSR3 = LFSR(len(lfsr_p3), lfsr_p3, [])\n",
    "g = Geffe(LFSR1, LFSR2, LFSR3)"
   ]
  },
  {
   "cell_type": "markdown",
   "metadata": {
    "collapsed": true
   },
   "source": [
    "# FIRST REGISTER"
   ]
  },
  {
   "cell_type": "code",
   "execution_count": 4,
   "metadata": {},
   "outputs": [
    {
     "name": "stdout",
     "output_type": "stream",
     "text": [
      "(-1.7763568394002505e-15, 0.0)\n",
      "beta= 0.00048828125\n",
      "N= 113 C= 38.9176580391\n"
     ]
    }
   ],
   "source": [
    "beta1 = find_beta(n_lfsr1)\n",
    "N1_f,C1 = find_N_C(1.0/4, 1.0/2, 0.01, beta1)\n",
    "N1 = int(np.ceil(N1_f))\n",
    "print(check_N_C(N1_f,C1, p1, p2, alpha, beta1))\n",
    "print(\"beta=\", beta1)\n",
    "print(\"N=\", N1, \"C=\", C1)"
   ]
  },
  {
   "cell_type": "code",
   "execution_count": 7,
   "metadata": {
    "scrolled": true
   },
   "outputs": [],
   "source": [
    "states1 = all_states_generator(n_lfsr1)\n",
    "z1 = z[:N1]\n",
    "approved_states1 = []\n",
    "r_statistics_all = []\n",
    "for state in states1:\n",
    "    LFSR1.set_current_state(state)\n",
    "    generated = LFSR1.iterate(N1)\n",
    "    r_statistics = calculate_R(z1, generated)\n",
    "    r_statistics_all.append(r_statistics)\n",
    "    if r_statistics < C1:\n",
    "        LFSR1.set_current_state(state)\n",
    "        approved_states1.append((state,LFSR1.iterate(N)))"
   ]
  },
  {
   "cell_type": "code",
   "execution_count": 8,
   "metadata": {
    "collapsed": true
   },
   "outputs": [
    {
     "data": {
      "text/plain": [
       "[((False, False, False, False, False, False, False, True, False, False, False),\n",
       "  array([False, False, False, False, False, False, False,  True, False,\n",
       "         False, False, False, False, False, False, False,  True, False,\n",
       "          True, False, False, False, False, False, False,  True, False,\n",
       "         False, False,  True, False, False, False, False,  True, False,\n",
       "          True, False,  True, False,  True, False, False,  True, False,\n",
       "         False, False, False, False, False, False,  True,  True, False,\n",
       "          True, False, False, False, False, False,  True,  True,  True,\n",
       "         False, False,  True, False, False, False,  True,  True, False,\n",
       "          True,  True,  True, False,  True, False,  True,  True,  True,\n",
       "         False,  True, False,  True, False, False, False,  True, False,\n",
       "          True, False, False, False, False,  True, False,  True, False,\n",
       "         False, False,  True, False, False,  True, False, False, False,\n",
       "          True, False,  True, False,  True,  True, False,  True, False,\n",
       "          True, False, False, False, False,  True,  True, False, False,\n",
       "         False, False,  True, False, False,  True,  True,  True,  True,\n",
       "         False, False,  True, False,  True,  True,  True, False, False,\n",
       "          True,  True,  True, False, False,  True, False,  True,  True,\n",
       "          True,  True, False,  True,  True,  True, False, False,  True,\n",
       "         False, False,  True, False,  True, False,  True,  True,  True,\n",
       "         False,  True,  True, False, False, False, False,  True, False,\n",
       "          True, False,  True,  True,  True, False, False,  True, False,\n",
       "         False, False, False,  True, False,  True,  True,  True, False,\n",
       "          True, False, False,  True, False, False,  True, False,  True,\n",
       "         False, False,  True,  True, False,  True,  True, False, False,\n",
       "         False,  True,  True,  True,  True, False,  True,  True,  True,\n",
       "         False,  True,  True, False, False,  True, False,  True, False,\n",
       "          True, False,  True,  True,  True,  True, False, False, False,\n",
       "         False, False, False,  True, False, False,  True,  True, False,\n",
       "         False, False, False,  True, False,  True,  True,  True,  True,\n",
       "          True, False, False,  True, False, False,  True, False, False,\n",
       "         False,  True,  True,  True, False,  True,  True, False,  True,\n",
       "         False,  True,  True, False,  True, False,  True,  True, False,\n",
       "         False, False,  True,  True, False, False, False,  True,  True,\n",
       "          True, False,  True,  True,  True,  True, False,  True,  True,\n",
       "         False,  True, False,  True, False, False,  True, False,  True,\n",
       "          True, False, False, False, False,  True,  True, False, False,\n",
       "          True,  True,  True, False, False,  True,  True,  True,  True,\n",
       "          True,  True, False,  True,  True,  True,  True, False, False,\n",
       "         False, False,  True, False,  True, False, False,  True,  True,\n",
       "         False, False,  True, False, False, False,  True,  True,  True,\n",
       "          True,  True,  True, False,  True, False,  True,  True, False,\n",
       "         False, False, False,  True, False, False, False,  True,  True,\n",
       "          True, False, False,  True, False,  True, False,  True,  True,\n",
       "         False,  True,  True,  True, False, False, False, False,  True,\n",
       "          True, False,  True, False,  True,  True, False, False,  True,\n",
       "          True,  True, False, False, False,  True,  True,  True,  True,\n",
       "          True, False,  True,  True, False,  True,  True, False, False,\n",
       "         False,  True, False,  True,  True, False,  True,  True,  True,\n",
       "         False,  True, False, False,  True,  True, False,  True, False,\n",
       "          True, False, False,  True,  True,  True,  True, False, False,\n",
       "         False, False,  True,  True,  True, False, False,  True,  True,\n",
       "         False, False,  True,  True, False,  True,  True,  True,  True,\n",
       "          True,  True,  True,  True,  True, False,  True, False, False,\n",
       "         False, False, False, False, False,  True, False, False,  True,\n",
       "         False, False, False, False, False,  True, False,  True,  True,\n",
       "         False,  True, False, False, False], dtype=bool)),\n",
       " ((False, False, False, False, False, False, False, True, False, True, False),\n",
       "  array([False, False, False, False, False, False, False,  True, False,\n",
       "          True, False, False, False, False, False, False,  True, False,\n",
       "         False, False,  True, False, False, False, False,  True, False,\n",
       "          True, False,  True, False,  True, False, False,  True, False,\n",
       "         False, False, False, False, False, False,  True,  True, False,\n",
       "          True, False, False, False, False, False,  True,  True,  True,\n",
       "         False, False,  True, False, False, False,  True,  True, False,\n",
       "          True,  True,  True, False,  True, False,  True,  True,  True,\n",
       "         False,  True, False,  True, False, False, False,  True, False,\n",
       "          True, False, False, False, False,  True, False,  True, False,\n",
       "         False, False,  True, False, False,  True, False, False, False,\n",
       "          True, False,  True, False,  True,  True, False,  True, False,\n",
       "          True, False, False, False, False,  True,  True, False, False,\n",
       "         False, False,  True, False, False,  True,  True,  True,  True,\n",
       "         False, False,  True, False,  True,  True,  True, False, False,\n",
       "          True,  True,  True, False, False,  True, False,  True,  True,\n",
       "          True,  True, False,  True,  True,  True, False, False,  True,\n",
       "         False, False,  True, False,  True, False,  True,  True,  True,\n",
       "         False,  True,  True, False, False, False, False,  True, False,\n",
       "          True, False,  True,  True,  True, False, False,  True, False,\n",
       "         False, False, False,  True, False,  True,  True,  True, False,\n",
       "          True, False, False,  True, False, False,  True, False,  True,\n",
       "         False, False,  True,  True, False,  True,  True, False, False,\n",
       "         False,  True,  True,  True,  True, False,  True,  True,  True,\n",
       "         False,  True,  True, False, False,  True, False,  True, False,\n",
       "          True, False,  True,  True,  True,  True, False, False, False,\n",
       "         False, False, False,  True, False, False,  True,  True, False,\n",
       "         False, False, False,  True, False,  True,  True,  True,  True,\n",
       "          True, False, False,  True, False, False,  True, False, False,\n",
       "         False,  True,  True,  True, False,  True,  True, False,  True,\n",
       "         False,  True,  True, False,  True, False,  True,  True, False,\n",
       "         False, False,  True,  True, False, False, False,  True,  True,\n",
       "          True, False,  True,  True,  True,  True, False,  True,  True,\n",
       "         False,  True, False,  True, False, False,  True, False,  True,\n",
       "          True, False, False, False, False,  True,  True, False, False,\n",
       "          True,  True,  True, False, False,  True,  True,  True,  True,\n",
       "          True,  True, False,  True,  True,  True,  True, False, False,\n",
       "         False, False,  True, False,  True, False, False,  True,  True,\n",
       "         False, False,  True, False, False, False,  True,  True,  True,\n",
       "          True,  True,  True, False,  True, False,  True,  True, False,\n",
       "         False, False, False,  True, False, False, False,  True,  True,\n",
       "          True, False, False,  True, False,  True, False,  True,  True,\n",
       "         False,  True,  True,  True, False, False, False, False,  True,\n",
       "          True, False,  True, False,  True,  True, False, False,  True,\n",
       "          True,  True, False, False, False,  True,  True,  True,  True,\n",
       "          True, False,  True,  True, False,  True,  True, False, False,\n",
       "         False,  True, False,  True,  True, False,  True,  True,  True,\n",
       "         False,  True, False, False,  True,  True, False,  True, False,\n",
       "          True, False, False,  True,  True,  True,  True, False, False,\n",
       "         False, False,  True,  True,  True, False, False,  True,  True,\n",
       "         False, False,  True,  True, False,  True,  True,  True,  True,\n",
       "          True,  True,  True,  True,  True, False,  True, False, False,\n",
       "         False, False, False, False, False,  True, False, False,  True,\n",
       "         False, False, False, False, False,  True, False,  True,  True,\n",
       "         False,  True, False, False, False,  True, False, False,  True,\n",
       "          True, False, False,  True, False], dtype=bool))]"
      ]
     },
     "execution_count": 8,
     "metadata": {},
     "output_type": "execute_result"
    }
   ],
   "source": [
    "approved_states1"
   ]
  },
  {
   "cell_type": "code",
   "execution_count": 9,
   "metadata": {},
   "outputs": [
    {
     "name": "stdout",
     "output_type": "stream",
     "text": [
      "(1.7763568394002505e-15, 3.5527136788005009e-15)\n",
      "beta= 0.001953125\n",
      "N= 97 C= 33.885591793\n"
     ]
    }
   ],
   "source": [
    "beta2 = find_beta(n_lfsr2)\n",
    "N2_f,C2 = find_N_C(1.0/4, 1.0/2, 0.01, beta2)\n",
    "N2 = int(np.ceil(N2_f))\n",
    "print(check_N_C(N2_f,C2, p1, p2, alpha, beta2))\n",
    "print(\"beta=\", beta2)\n",
    "print(\"N=\", N2, \"C=\", C2)"
   ]
  },
  {
   "cell_type": "code",
   "execution_count": 10,
   "metadata": {
    "collapsed": true
   },
   "outputs": [],
   "source": [
    "states2 = all_states_generator(n_lfsr2)\n",
    "z2 = z[:N2]\n",
    "approved_states2 = []\n",
    "r_statistics_all = []\n",
    "for state in states2:\n",
    "    LFSR2.set_current_state(state)\n",
    "    generated = LFSR2.iterate(N2)\n",
    "    r_statistics = calculate_R(z2, generated)\n",
    "    r_statistics_all.append(r_statistics)\n",
    "    if r_statistics < C2:\n",
    "        LFSR2.set_current_state(state)\n",
    "        approved_states2.append((state,LFSR2.iterate(N)))"
   ]
  },
  {
   "cell_type": "code",
   "execution_count": 11,
   "metadata": {
    "collapsed": true
   },
   "outputs": [
    {
     "data": {
      "text/plain": [
       "[((True, True, True, True, True, False, False, False, True),\n",
       "  array([ True,  True,  True,  True,  True, False, False, False,  True,\n",
       "         False,  True, False, False, False,  True,  True, False,  True,\n",
       "          True, False, False,  True, False, False, False,  True,  True,\n",
       "         False, False,  True, False, False,  True,  True,  True, False,\n",
       "         False, False,  True, False, False, False, False, False,  True,\n",
       "         False,  True,  True, False,  True,  True,  True,  True, False,\n",
       "         False, False,  True,  True,  True, False, False, False, False,\n",
       "         False, False, False, False,  True, False, False, False, False,\n",
       "          True,  True, False,  True,  True,  True, False,  True, False,\n",
       "         False,  True, False,  True,  True,  True, False, False,  True,\n",
       "          True,  True, False, False,  True,  True, False, False, False,\n",
       "          True,  True,  True,  True, False, False, False, False,  True,\n",
       "          True, False, False,  True,  True, False,  True,  True,  True,\n",
       "          True,  True, False, False,  True,  True, False,  True, False,\n",
       "          True,  True,  True, False,  True, False,  True,  True, False,\n",
       "          True,  True, False,  True, False, False, False, False, False,\n",
       "          True,  True,  True,  True, False,  True, False, False,  True,\n",
       "          True,  True,  True,  True, False,  True, False,  True, False,\n",
       "          True,  True,  True, False, False, False,  True,  True, False,\n",
       "         False, False, False, False,  True,  True, False,  True, False,\n",
       "          True, False,  True, False,  True, False, False, False, False,\n",
       "         False, False,  True,  True,  True, False, False,  True, False,\n",
       "         False, False, False,  True, False, False,  True,  True,  True,\n",
       "          True, False, False,  True, False,  True,  True, False,  True,\n",
       "         False,  True,  True, False, False,  True, False,  True, False,\n",
       "          True,  True, False,  True, False, False,  True, False, False,\n",
       "          True,  True, False, False, False, False,  True,  True,  True,\n",
       "         False,  True,  True, False, False, False,  True, False, False,\n",
       "          True, False, False,  True, False, False, False, False, False,\n",
       "         False, False,  True,  True, False, False, False,  True, False,\n",
       "          True,  True, False, False,  True,  True,  True, False,  True,\n",
       "          True,  True, False, False,  True, False,  True, False, False,\n",
       "          True, False,  True, False,  True, False, False,  True, False,\n",
       "         False, False,  True, False, False, False,  True, False,  True,\n",
       "         False,  True, False,  True,  True, False, False, False, False,\n",
       "          True, False,  True, False,  True,  True,  True,  True, False,\n",
       "         False,  True,  True,  True,  True, False,  True,  True, False,\n",
       "          True,  True,  True, False, False, False, False,  True, False,\n",
       "         False, False,  True,  True,  True, False,  True, False, False,\n",
       "         False, False,  True,  True,  True,  True,  True,  True, False,\n",
       "         False,  True, False, False,  True, False,  True, False, False,\n",
       "         False, False,  True, False,  True,  True,  True,  True,  True,\n",
       "          True,  True,  True,  True, False, False, False, False, False,\n",
       "          True, False, False,  True, False,  True,  True, False, False,\n",
       "         False,  True,  True, False,  True, False, False, False,  True,\n",
       "         False,  True,  True,  True, False,  True,  True,  True,  True,\n",
       "         False,  True, False,  True,  True,  True,  True,  True, False,\n",
       "          True,  True,  True, False,  True,  True, False,  True, False,\n",
       "          True, False, False, False,  True, False, False,  True,  True,\n",
       "         False,  True, False, False,  True,  True, False,  True,  True,\n",
       "         False,  True,  True, False, False, False, False, False, False,\n",
       "          True, False,  True, False, False,  True,  True,  True, False,\n",
       "          True, False,  True, False, False,  True,  True, False, False,\n",
       "          True, False,  True,  True,  True,  True, False,  True,  True,\n",
       "          True,  True,  True,  True, False,  True,  True, False, False,\n",
       "          True,  True, False, False,  True], dtype=bool))]"
      ]
     },
     "execution_count": 11,
     "metadata": {},
     "output_type": "execute_result"
    }
   ],
   "source": [
    "approved_states2"
   ]
  },
  {
   "cell_type": "code",
   "execution_count": 16,
   "metadata": {},
   "outputs": [],
   "source": [
    "states3 = all_states_generator(n_lfsr3)\n",
    "all_combinations = list(product(approved_states1,approved_states2))\n",
    "approved_states3 = []\n",
    "for state in states3:\n",
    "    LFSR3.set_current_state(state)\n",
    "    generated = LFSR3.iterate(N)\n",
    "    approved = False\n",
    "    approved_12 = None\n",
    "    for (state1,generated1),(state2,generated2) in all_combinations:\n",
    "        ok = True\n",
    "        for i in range(N):\n",
    "            z_i, gen, gen1, gen2 = z[i], generated[i], generated1[i], generated2[i]\n",
    "            if gen1 != gen2:\n",
    "                if (gen == 1 and gen1 != z_i) or (gen == 0 and gen2 != z_i):\n",
    "                    ok = False\n",
    "                    break\n",
    "        if ok:\n",
    "            approved = True\n",
    "            approved_12 = [state1, state2]\n",
    "            break\n",
    "    if approved:\n",
    "        approved_states3.append((approved_12,state))"
   ]
  },
  {
   "cell_type": "code",
   "execution_count": 23,
   "metadata": {},
   "outputs": [
    {
     "data": {
      "text/plain": [
       "[([(False, False, False, False, False, False, False, True, False, True, False),\n",
       "   (True, True, True, True, True, False, False, False, True)],\n",
       "  (True, False, False, True, False, True, True, False, False, False))]"
      ]
     },
     "execution_count": 23,
     "metadata": {},
     "output_type": "execute_result"
    }
   ],
   "source": [
    "approved_states3"
   ]
  },
  {
   "cell_type": "code",
   "execution_count": 25,
   "metadata": {},
   "outputs": [],
   "source": [
    "(found1,found2),found3 = approved_states3[0]"
   ]
  },
  {
   "cell_type": "code",
   "execution_count": 26,
   "metadata": {},
   "outputs": [
    {
     "data": {
      "text/plain": [
       "(False, False, False, False, False, False, False, True, False, True, False)"
      ]
     },
     "execution_count": 26,
     "metadata": {},
     "output_type": "execute_result"
    }
   ],
   "source": [
    "found1"
   ]
  },
  {
   "cell_type": "code",
   "execution_count": 27,
   "metadata": {},
   "outputs": [
    {
     "data": {
      "text/plain": [
       "(True, True, True, True, True, False, False, False, True)"
      ]
     },
     "execution_count": 27,
     "metadata": {},
     "output_type": "execute_result"
    }
   ],
   "source": [
    "found2"
   ]
  },
  {
   "cell_type": "code",
   "execution_count": 28,
   "metadata": {},
   "outputs": [
    {
     "data": {
      "text/plain": [
       "(True, False, False, True, False, True, True, False, False, False)"
      ]
     },
     "execution_count": 28,
     "metadata": {},
     "output_type": "execute_result"
    }
   ],
   "source": [
    "found3"
   ]
  },
  {
   "cell_type": "code",
   "execution_count": 30,
   "metadata": {
    "collapsed": true
   },
   "outputs": [],
   "source": [
    "LFSR1.set_current_state(found1)\n",
    "LFSR2.set_current_state(found2)\n",
    "LFSR3.set_current_state(found3)"
   ]
  },
  {
   "cell_type": "code",
   "execution_count": 31,
   "metadata": {
    "collapsed": true
   },
   "outputs": [],
   "source": [
    "results = g.iterate(N)"
   ]
  },
  {
   "cell_type": "code",
   "execution_count": 34,
   "metadata": {},
   "outputs": [
    {
     "data": {
      "text/plain": [
       "True"
      ]
     },
     "execution_count": 34,
     "metadata": {},
     "output_type": "execute_result"
    }
   ],
   "source": [
    "np.all(results == z)"
   ]
  },
  {
   "cell_type": "code",
   "execution_count": null,
   "metadata": {
    "collapsed": true
   },
   "outputs": [],
   "source": []
  }
 ],
 "metadata": {
  "kernelspec": {
   "display_name": "Python [conda root]",
   "language": "python",
   "name": "conda-root-py"
  },
  "language_info": {
   "codemirror_mode": {
    "name": "ipython",
    "version": 3
   },
   "file_extension": ".py",
   "mimetype": "text/x-python",
   "name": "python",
   "nbconvert_exporter": "python",
   "pygments_lexer": "ipython3",
   "version": "3.5.3"
  }
 },
 "nbformat": 4,
 "nbformat_minor": 2
}
