{
 "cells": [
  {
   "cell_type": "code",
   "execution_count": 21,
   "metadata": {
    "collapsed": true
   },
   "outputs": [],
   "source": [
    "import numpy as np"
   ]
  },
  {
   "cell_type": "code",
   "execution_count": 53,
   "metadata": {
    "collapsed": true
   },
   "outputs": [],
   "source": [
    "class LFSR:\n",
    "    def __init__(self,n_reg):\n",
    "        self.n_reg  = n_reg\n",
    "        self.a      = np.zeros((self.n_reg), dtype=np.bool)\n",
    "        self.states = np.zeros((self.n_reg), dtype=np.bool)\n",
    "    \n",
    "    def set_params(self, params):\n",
    "        self.a = params\n",
    "        \n",
    "    def set_current_state(self, state):\n",
    "        self.states = state\n",
    "    \n",
    "    def iterate(self):\n",
    "        current_output = self.states[0]\n",
    "        next_last_state = np.logical_xor.reduce(self.a*self.states)\n",
    "        self.states = np.roll(self.states, 1)\n",
    "        self.states[-1] = next_last_state\n",
    "        return current_output"
   ]
  },
  {
   "cell_type": "code",
   "execution_count": 57,
   "metadata": {},
   "outputs": [],
   "source": [
    "class Geffe:\n",
    "    def __init__(self, lfsr1, lfsr2, lfsr3):\n",
    "        self.lfsr1 = lfsr1\n",
    "        self.lfsr2 = lfsr2\n",
    "        self.lfsr3 = lfsr3\n",
    "    \n",
    "    def iterate(self):\n",
    "        x = self.lfsr1.iterate()\n",
    "        y = self.lfsr2.iterate()\n",
    "        s = self.lfsr3.iterate()\n",
    "        return (s*x) ^ ((s^1)* y)"
   ]
  },
  {
   "cell_type": "code",
   "execution_count": 26,
   "metadata": {},
   "outputs": [],
   "source": [
    "lrs = LFSR(10)"
   ]
  },
  {
   "cell_type": "code",
   "execution_count": 37,
   "metadata": {},
   "outputs": [],
   "source": [
    "params = np.zeros(10, dtype=np.bool)\n",
    "params[0] = True"
   ]
  },
  {
   "cell_type": "code",
   "execution_count": 44,
   "metadata": {},
   "outputs": [],
   "source": [
    "lrs.set_params(params)\n",
    "lrs.set_current_state(params)"
   ]
  },
  {
   "cell_type": "code",
   "execution_count": 52,
   "metadata": {},
   "outputs": [
    {
     "data": {
      "text/plain": [
       "False"
      ]
     },
     "execution_count": 52,
     "metadata": {},
     "output_type": "execute_result"
    }
   ],
   "source": [
    "lrs.iterate()"
   ]
  },
  {
   "cell_type": "code",
   "execution_count": null,
   "metadata": {
    "collapsed": true
   },
   "outputs": [],
   "source": []
  },
  {
   "cell_type": "code",
   "execution_count": null,
   "metadata": {
    "collapsed": true
   },
   "outputs": [],
   "source": []
  }
 ],
 "metadata": {
  "kernelspec": {
   "display_name": "Python [conda root]",
   "language": "python",
   "name": "conda-root-py"
  },
  "language_info": {
   "codemirror_mode": {
    "name": "ipython",
    "version": 3
   },
   "file_extension": ".py",
   "mimetype": "text/x-python",
   "name": "python",
   "nbconvert_exporter": "python",
   "pygments_lexer": "ipython3",
   "version": "3.5.3"
  }
 },
 "nbformat": 4,
 "nbformat_minor": 2
}
