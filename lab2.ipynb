{
 "cells": [
  {
   "cell_type": "code",
   "execution_count": 83,
   "metadata": {
    "collapsed": true
   },
   "outputs": [],
   "source": [
    "from itertools import product\n",
    "import numpy as np\n",
    "from scipy.stats import norm"
   ]
  },
  {
   "cell_type": "code",
   "execution_count": 92,
   "metadata": {
    "collapsed": true
   },
   "outputs": [],
   "source": [
    "class LFSR:\n",
    "    def __init__(self,n_reg, params, states):\n",
    "        self.n_reg  = n_reg\n",
    "        self.params = np.array(params, dtype=np.bool)\n",
    "        self.states = np.array(states, dtype=np.bool)\n",
    "    \n",
    "    def set_params(self, params):\n",
    "        self.params = params\n",
    "        \n",
    "    def set_current_state(self, state):\n",
    "        self.states = state\n",
    "    \n",
    "    def iterate(self):\n",
    "        current_output = self.states[0]\n",
    "        next_last_state = np.logical_xor.reduce(self.params*self.states)\n",
    "        self.states = np.roll(self.states, -1)\n",
    "        self.states[-1] = next_last_state\n",
    "        return current_output\n",
    "\n",
    "class Geffe:\n",
    "    def __init__(self, lfsr1, lfsr2, lfsr3):\n",
    "        self.lfsr1 = lfsr1\n",
    "        self.lfsr2 = lfsr2\n",
    "        self.lfsr3 = lfsr3\n",
    "    \n",
    "    def one_iteration(self):\n",
    "        x = self.lfsr1.iterate()\n",
    "        y = self.lfsr2.iterate()\n",
    "        s = self.lfsr3.iterate()\n",
    "        return (s*x) ^ ((s^1)* y)\n",
    "    \n",
    "    def iterate(self, n):\n",
    "        outputs = []\n",
    "        for i in range(n):\n",
    "            outputs.append(self.one_iteration())\n",
    "        return np.array(outputs, dtype = np.bool)\n",
    "    \n",
    "def find_beta(n):\n",
    "    return 1.0 / 2.0**n\n",
    "\n",
    "def find_N_C(p1,p2,alpha,beta):\n",
    "    a = p1 - p2\n",
    "    b = np.sqrt(p1*(1-p1))*norm.ppf(1-alpha)+np.sqrt(p2*(1-p2))*norm.ppf(1-beta)\n",
    "    c = 0\n",
    "    d = np.sqrt(b**2-4*a*c)\n",
    "    N1 = np.power((-b + d)/(2*a), 2)\n",
    "    N2 = np.power((-b - d)/(2*a), 2)\n",
    "    N = np.maximum(N1,N2)\n",
    "    C = N*p1 + np.sqrt(N*p1*(1-p1))*norm.ppf(1-alpha)\n",
    "    return N,C\n",
    "\n",
    "def check_N_C(N,C, p1, p2, alpha, beta):\n",
    "    return C - N*p1  - np.sqrt(N*p1*(1-p1))*norm.ppf(1-alpha), C  - N*p2 + np.sqrt(N*p2*(1-p2))*norm.ppf(1-beta)\n",
    "\n",
    "def all_states_generator(N):\n",
    "    return product([False,True], repeat=N)\n",
    "\n",
    "def calculate_R(z,x):\n",
    "    return np.sum(np.logical_xor(z,x))"
   ]
  },
  {
   "cell_type": "code",
   "execution_count": 95,
   "metadata": {
    "collapsed": true
   },
   "outputs": [],
   "source": [
    "n_lfsr1 = 11\n",
    "n_lfsr2 = 9\n",
    "n_lfsr3 = 10\n",
    "\n",
    "lfsr_p1 = np.array([0,0,0,0,0,0,0,0,1,0,1], dtype=np.bool) # X11 + X2 + X0\n",
    "lfsr_p2 = np.array([0,0,0,0,1,1,0,1,1], dtype=np.bool)     # X9 + X4 + X3 + X1 + X0 \n",
    "lfsr_p3 = np.array([0,0,0,0,0,0,1,0,0,1], dtype=np.bool)   # X10 + X3 + X0\n",
    "alpha   = 0.01\n",
    "p1      = 1.0/4\n",
    "p2      = 1.0/2\n",
    "\n",
    "#var 3\n",
    "z_str = \"\"\"01101000101000101110010001100100001000100000010001111100100011001001011011010001011011101010001100010100000010001011111001101010101111011000100011110100110110011011100001010101101010011110000011000100110111011010111101100101010011110001010011001100111110010000000110100011101110001110000010101101000100010100000100011100111011111110010100001000101011111101011001001001010110111111110000010111100111100100110110110001011011111101101010001010100011001100110010011100010010000110110110101101110100010010\"\"\"\n",
    "z = np.array([int(v) for v in sequence_str],dtype=np.bool)\n",
    "\n",
    "LFSR1 = LFSR(len(lfsr_p1), lfsr_p1, [])\n",
    "LFSR2 = LFSR(len(lfsr_p2), lfsr_p2, [])\n",
    "LFSR3 = LFSR(len(lfsr_p3), lfsr_p3, [])\n",
    "g = Geffe(LFSR1, LFSR2, LFSR3)"
   ]
  },
  {
   "cell_type": "markdown",
   "metadata": {
    "collapsed": true
   },
   "source": [
    "# FIRST REGISTER"
   ]
  },
  {
   "cell_type": "code",
   "execution_count": 94,
   "metadata": {},
   "outputs": [
    {
     "name": "stdout",
     "output_type": "stream",
     "text": [
      "(-1.7763568394002505e-15, 1.7763568394002505e-15)\n",
      "beta= 0.0009765625\n",
      "N= 105 C= 36.4309017383\n"
     ]
    }
   ],
   "source": [
    "beta1 = find_beta(10)\n",
    "N1_f,C1 = find_N_C(1.0/4, 1.0/2, 0.01, beta)\n",
    "N1 = int(np.ceil(N1_f))\n",
    "print(check_N_C(N1_f,C1, p1, p2, alpha, beta1))\n",
    "print(\"beta=\", beta1)\n",
    "print(\"N=\", N1, \"C=\", C1)"
   ]
  },
  {
   "cell_type": "code",
   "execution_count": null,
   "metadata": {
    "collapsed": true
   },
   "outputs": [],
   "source": []
  }
 ],
 "metadata": {
  "kernelspec": {
   "display_name": "Python 3",
   "language": "python",
   "name": "python3"
  },
  "language_info": {
   "codemirror_mode": {
    "name": "ipython",
    "version": 3
   },
   "file_extension": ".py",
   "mimetype": "text/x-python",
   "name": "python",
   "nbconvert_exporter": "python",
   "pygments_lexer": "ipython3",
   "version": "3.6.2"
  }
 },
 "nbformat": 4,
 "nbformat_minor": 2
}
